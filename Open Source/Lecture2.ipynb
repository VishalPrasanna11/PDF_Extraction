{
 "cells": [
  {
   "cell_type": "code",
   "execution_count": 1,
   "id": "14b06c9b-c353-4010-8a55-058671e1719a",
   "metadata": {},
   "outputs": [
    {
     "name": "stdout",
     "output_type": "stream",
     "text": [
      "Requirement already satisfied: PyPDF2 in /opt/anaconda3/lib/python3.12/site-packages (3.0.1)\n",
      "Requirement already satisfied: pytesseract in /opt/anaconda3/lib/python3.12/site-packages (0.3.13)\n",
      "Requirement already satisfied: pillow in /opt/anaconda3/lib/python3.12/site-packages (10.3.0)\n",
      "Requirement already satisfied: packaging>=21.3 in /opt/anaconda3/lib/python3.12/site-packages (from pytesseract) (23.2)\n",
      "Note: you may need to restart the kernel to use updated packages.\n"
     ]
    }
   ],
   "source": [
    "pip install PyPDF2 pytesseract pillow"
   ]
  },
  {
   "cell_type": "code",
   "execution_count": 3,
   "id": "e9441588-a332-45cc-af9a-945e7a2ce848",
   "metadata": {},
   "outputs": [],
   "source": [
    "import PyPDF2\n",
    "import pytesseract\n",
    "from PIL import Image\n",
    "import io\n",
    "\n",
    "# Set the path to the Tesseract executable if it's not in your system PATH\n",
    "# pytesseract.pytesseract.tesseract_cmd = r'C:\\Program Files\\Tesseract-OCR\\tesseract.exe'  # Adjust this path as needed\n"
   ]
  },
  {
   "cell_type": "code",
   "execution_count": 20,
   "id": "3a77e6b9-091d-49e8-a224-4140864b5f55",
   "metadata": {},
   "outputs": [
    {
     "name": "stdout",
     "output_type": "stream",
     "text": [
      "Data extracted and saved in ./extracted_data\n"
     ]
    }
   ],
   "source": [
    "import os\n",
    "import PyPDF2\n",
    "import pytesseract\n",
    "from PIL import Image, ExifTags\n",
    "import io\n",
    "\n",
    "def extract_data_from_pdf(pdf_path, output_folder):\n",
    "    markdown_content = []\n",
    "\n",
    "    # Ensure output folder exists\n",
    "    if not os.path.exists(output_folder):\n",
    "        os.makedirs(output_folder)\n",
    "\n",
    "    try:\n",
    "        with open(pdf_path, 'rb') as file:\n",
    "            reader = PyPDF2.PdfReader(file)\n",
    "            num_pages = len(reader.pages)\n",
    "\n",
    "            for page_num in range(num_pages):\n",
    "                page = reader.pages[page_num]\n",
    "\n",
    "                # Extract text\n",
    "                text = page.extract_text()\n",
    "                if text:\n",
    "                    markdown_content.append(f\"## Page {page_num + 1}\\n\\n{text}\\n\\n\")\n",
    "                else:\n",
    "                    markdown_content.append(f\"## Page {page_num + 1}\\n\\nNo text extracted.\\n\\n\")\n",
    "\n",
    "                # Extract images\n",
    "                if '/XObject' in page['/Resources']:\n",
    "                    xObject = page['/Resources']['/XObject'].get_object()\n",
    "                    for obj in xObject:\n",
    "                        if xObject[obj]['/Subtype'] == '/Image':\n",
    "                            # Determine image format (usually `/Filter` is set to something like `/DCTDecode` or `/JPXDecode`)\n",
    "                            image_data = xObject[obj].get_data()\n",
    "                            image_format = xObject[obj]['/Filter']\n",
    "                            \n",
    "                            # Define image extension based on the format\n",
    "                            if image_format == '/DCTDecode':  # JPEG\n",
    "                                extension = 'jpg'\n",
    "                            elif image_format == '/JPXDecode':  # JPEG2000\n",
    "                                extension = 'jp2'\n",
    "                            else:\n",
    "                                extension = 'png'  # Default to PNG\n",
    "\n",
    "                            # Get image size\n",
    "                            img = Image.open(io.BytesIO(image_data))\n",
    "\n",
    "                            # Check for EXIF orientation (for images like JPG)\n",
    "                            try:\n",
    "                                for orientation in ExifTags.TAGS.keys():\n",
    "                                    if ExifTags.TAGS[orientation]=='Orientation':\n",
    "                                        exif=dict(img._getexif() or [])\n",
    "                                        if exif.get(orientation)==3:\n",
    "                                            img=img.rotate(180, expand=True)\n",
    "                                        elif exif.get(orientation)==6:\n",
    "                                            img=img.rotate(270, expand=True)\n",
    "                                        elif exif.get(orientation)==8:\n",
    "                                            img=img.rotate(90, expand=True)\n",
    "                            except (AttributeError, KeyError, IndexError):\n",
    "                                # If no EXIF data is found, we just ignore the error\n",
    "                                pass\n",
    "\n",
    "                            # Create a safe filename and ensure no invalid characters\n",
    "                            image_filename = f\"page_{page_num + 1}_image_{obj}.{extension}\"\n",
    "                            image_filename = ''.join(e for e in image_filename if e.isalnum() or e in ('-', '_', '.'))\n",
    "                            image_path = os.path.join(output_folder, image_filename)\n",
    "\n",
    "                            # Ensure output directory exists for image saving\n",
    "                            os.makedirs(output_folder, exist_ok=True)\n",
    "\n",
    "                            # Save the image\n",
    "                            img.save(image_path)\n",
    "\n",
    "                            # Log image saving\n",
    "                            markdown_content.append(f\"### Image {obj} saved as {image_filename}\\n\\n\")\n",
    "\n",
    "                            # Perform OCR on the image\n",
    "                            image_text = pytesseract.image_to_string(img)\n",
    "                            markdown_content.append(f\"### Image Text from {image_filename}\\n\\n{image_text}\\n\\n\")\n",
    "\n",
    "    except Exception as e:\n",
    "        return f\"Failed to extract data from PDF: {e}\"\n",
    "\n",
    "    # Save markdown content to a file\n",
    "    markdown_file = os.path.join(output_folder, 'extracted_data.md')\n",
    "    with open(markdown_file, 'w', encoding='utf-8') as md_file:\n",
    "        md_file.writelines(markdown_content)\n",
    "\n",
    "    return f\"Data extracted and saved in {output_folder}\"\n",
    "\n",
    "# Usage\n",
    "pdf_path = './pdf_extract_base.pdf'\n",
    "output_folder = './extracted_data'\n",
    "result = extract_data_from_pdf(pdf_path, output_folder)\n",
    "print(result)\n"
   ]
  },
  {
   "cell_type": "code",
   "execution_count": null,
   "id": "6cb268b4-dd2b-4b63-8269-c18632f97e47",
   "metadata": {},
   "outputs": [],
   "source": []
  },
  {
   "cell_type": "code",
   "execution_count": null,
   "id": "9be8d4bb-fb78-4b2e-9f23-43cdbe646d39",
   "metadata": {},
   "outputs": [],
   "source": []
  }
 ],
 "metadata": {
  "kernelspec": {
   "display_name": "Python 3 (ipykernel)",
   "language": "python",
   "name": "python3"
  },
  "language_info": {
   "codemirror_mode": {
    "name": "ipython",
    "version": 3
   },
   "file_extension": ".py",
   "mimetype": "text/x-python",
   "name": "python",
   "nbconvert_exporter": "python",
   "pygments_lexer": "ipython3",
   "version": "3.12.4"
  }
 },
 "nbformat": 4,
 "nbformat_minor": 5
}
